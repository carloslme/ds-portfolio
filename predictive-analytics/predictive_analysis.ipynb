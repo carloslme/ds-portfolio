{
  "nbformat": 4,
  "nbformat_minor": 0,
  "metadata": {
    "kernelspec": {
      "display_name": "Python 3",
      "language": "python",
      "name": "python3"
    },
    "language_info": {
      "codemirror_mode": {
        "name": "ipython",
        "version": 3
      },
      "file_extension": ".py",
      "mimetype": "text/x-python",
      "name": "python",
      "nbconvert_exporter": "python",
      "pygments_lexer": "ipython3",
      "version": "3.8.5"
    },
    "colab": {
      "name": "predictive_analysis.ipynb",
      "provenance": [],
      "include_colab_link": true
    }
  },
  "cells": [
    {
      "cell_type": "markdown",
      "metadata": {
        "id": "view-in-github",
        "colab_type": "text"
      },
      "source": [
        "<a href=\"https://colab.research.google.com/github/carloslme/ds-portfolio/blob/main/predictive-analytics/predictive_analysis.ipynb\" target=\"_parent\"><img src=\"https://colab.research.google.com/assets/colab-badge.svg\" alt=\"Open In Colab\"/></a>"
      ]
    },
    {
      "cell_type": "markdown",
      "metadata": {
        "id": "AC9esRIwOHjT"
      },
      "source": [
        "# Introduction\n",
        "Predictive Analytics is a process of statistical techniques derived from data mining, machine learning and predictive modeling that obtain current and historical events to predict future events or unknown outcomes in the future.\n",
        "\n",
        "The goal of this exercise is to build a machine learning pipeline for predictive analytics using this open dataset: https://datos.cdmx.gob.mx/dataset/incidentes-viales-c5, which shows the road incidents in Mexico City during february 2021 in the 16 town halls."
      ]
    },
    {
      "cell_type": "markdown",
      "metadata": {
        "id": "bXXxHcS8OLel"
      },
      "source": [
        "# Data Ingestion"
      ]
    },
    {
      "cell_type": "markdown",
      "metadata": {
        "id": "dL40mXwtQNga"
      },
      "source": [
        "## Getting data from website "
      ]
    },
    {
      "cell_type": "code",
      "metadata": {
        "id": "0abCiwxxQU0z"
      },
      "source": [
        "!pip install requests"
      ],
      "execution_count": null,
      "outputs": []
    },
    {
      "cell_type": "code",
      "metadata": {
        "id": "nfQsaS2oQs6I"
      },
      "source": [
        "import requests"
      ],
      "execution_count": 2,
      "outputs": []
    },
    {
      "cell_type": "code",
      "metadata": {
        "id": "FIHwhDgeQwCU"
      },
      "source": [
        "res = requests.get('https://datos.cdmx.gob.mx/dataset/a6d1d483-65d2-4ed9-9687-1932eb0cf70f/resource/c6b0fe65-137c-40d6-99c9-6c527f9b29c4/download/___')"
      ],
      "execution_count": 3,
      "outputs": []
    },
    {
      "cell_type": "code",
      "metadata": {
        "id": "w-HPUL8fRQVt"
      },
      "source": [
        "res.raise_for_status()\n",
        "csv_file = open('incidentes-viales-c5.csv', 'wb')\n",
        "for chunk in res.iter_content(100000):\n",
        "  csv_file.write(chunk)\n",
        "\n",
        "csv_file.close()"
      ],
      "execution_count": 8,
      "outputs": []
    },
    {
      "cell_type": "markdown",
      "metadata": {
        "id": "rf3ZQ9ueOOso"
      },
      "source": [
        "# Data Exploration "
      ]
    },
    {
      "cell_type": "markdown",
      "metadata": {
        "id": "Vea6jkUIORD6"
      },
      "source": [
        "# Data Preprocessing"
      ]
    },
    {
      "cell_type": "markdown",
      "metadata": {
        "id": "U30lw8dlOVyB"
      },
      "source": [
        "# Modeling"
      ]
    },
    {
      "cell_type": "markdown",
      "metadata": {
        "id": "s3kvcdiqOXNp"
      },
      "source": [
        "# Report"
      ]
    },
    {
      "cell_type": "markdown",
      "metadata": {
        "id": "gSmyqlVjOY0x"
      },
      "source": [
        "# Deployment and consumption"
      ]
    },
    {
      "cell_type": "markdown",
      "metadata": {
        "id": "ODeQvIAaQHJD"
      },
      "source": [
        "# Useful resources\n",
        "* https://www.educba.com/predictive-analysis-vs-forecasting/?source=leftnav"
      ]
    },
    {
      "cell_type": "code",
      "metadata": {
        "id": "_Qm8A4fxOHjW"
      },
      "source": [
        "\n"
      ],
      "execution_count": null,
      "outputs": []
    }
  ]
}