{
  "nbformat": 4,
  "nbformat_minor": 0,
  "metadata": {
    "kernelspec": {
      "display_name": "Python 3",
      "language": "python",
      "name": "python3"
    },
    "language_info": {
      "codemirror_mode": {
        "name": "ipython",
        "version": 3
      },
      "file_extension": ".py",
      "mimetype": "text/x-python",
      "name": "python",
      "nbconvert_exporter": "python",
      "pygments_lexer": "ipython3",
      "version": "3.8.5"
    },
    "colab": {
      "name": "predictive_analysis.ipynb",
      "provenance": [],
      "include_colab_link": true
    }
  },
  "cells": [
    {
      "cell_type": "markdown",
      "metadata": {
        "id": "view-in-github",
        "colab_type": "text"
      },
      "source": [
        "<a href=\"https://colab.research.google.com/github/carloslme/ds-portfolio/blob/main/predictive-analytics/predictive_analysis.ipynb\" target=\"_parent\"><img src=\"https://colab.research.google.com/assets/colab-badge.svg\" alt=\"Open In Colab\"/></a>"
      ]
    },
    {
      "cell_type": "markdown",
      "metadata": {
        "id": "AC9esRIwOHjT"
      },
      "source": [
        "# Introduction\n",
        "Predictive Analytics is a process of statistical techniques derived from data mining, machine learning and predictive modeling that obtain current and historical events to predict future events or unknown outcomes in the future.\n",
        "\n",
        "The goal of this exercise is to build a machine learning pipeline for predictive analytics using this open dataset: https://datos.cdmx.gob.mx/dataset/incidentes-viales-c5, which shows the road incidents in Mexico City during february 2021 in the 16 town halls."
      ]
    },
    {
      "cell_type": "markdown",
      "metadata": {
        "id": "bXXxHcS8OLel"
      },
      "source": [
        "# Data Ingestion"
      ]
    },
    {
      "cell_type": "markdown",
      "metadata": {
        "id": "dL40mXwtQNga"
      },
      "source": [
        "## Getting data from website "
      ]
    },
    {
      "cell_type": "code",
      "metadata": {
        "id": "0abCiwxxQU0z"
      },
      "source": [
        "!pip install requests"
      ],
      "execution_count": null,
      "outputs": []
    },
    {
      "cell_type": "code",
      "metadata": {
        "id": "nfQsaS2oQs6I"
      },
      "source": [
        "import requests"
      ],
      "execution_count": 1,
      "outputs": []
    },
    {
      "cell_type": "code",
      "metadata": {
        "id": "FIHwhDgeQwCU"
      },
      "source": [
        "res = requests.get('https://datos.cdmx.gob.mx/dataset/a6d1d483-65d2-4ed9-9687-1932eb0cf70f/resource/c6b0fe65-137c-40d6-99c9-6c527f9b29c4/download/___')"
      ],
      "execution_count": 2,
      "outputs": []
    },
    {
      "cell_type": "code",
      "metadata": {
        "id": "w-HPUL8fRQVt"
      },
      "source": [
        "res.raise_for_status()\n",
        "csv_file = open('incidentes-viales-c5.csv', 'wb')\n",
        "for chunk in res.iter_content(100000):\n",
        "  csv_file.write(chunk)\n",
        "\n",
        "csv_file.close()"
      ],
      "execution_count": 3,
      "outputs": []
    },
    {
      "cell_type": "markdown",
      "metadata": {
        "id": "rf3ZQ9ueOOso"
      },
      "source": [
        "# Data Exploration "
      ]
    },
    {
      "cell_type": "code",
      "metadata": {
        "id": "T07K-u6xTDtS"
      },
      "source": [
        "import pandas as pd"
      ],
      "execution_count": 4,
      "outputs": []
    },
    {
      "cell_type": "code",
      "metadata": {
        "id": "dOEXzhngTHfw",
        "colab": {
          "base_uri": "https://localhost:8080/",
          "height": 415
        },
        "outputId": "4ee89379-2be6-46a9-b44b-c633e97ca42c"
      },
      "source": [
        "incidents = pd.read_csv('/content/incidentes-viales-c5.csv')\n",
        "incidents.head()"
      ],
      "execution_count": 5,
      "outputs": [
        {
          "output_type": "execute_result",
          "data": {
            "text/html": [
              "<div>\n",
              "<style scoped>\n",
              "    .dataframe tbody tr th:only-of-type {\n",
              "        vertical-align: middle;\n",
              "    }\n",
              "\n",
              "    .dataframe tbody tr th {\n",
              "        vertical-align: top;\n",
              "    }\n",
              "\n",
              "    .dataframe thead th {\n",
              "        text-align: right;\n",
              "    }\n",
              "</style>\n",
              "<table border=\"1\" class=\"dataframe\">\n",
              "  <thead>\n",
              "    <tr style=\"text-align: right;\">\n",
              "      <th></th>\n",
              "      <th>Unnamed: 0</th>\n",
              "      <th>folio</th>\n",
              "      <th>fecha_creacion</th>\n",
              "      <th>hora_creacion</th>\n",
              "      <th>dia_semana</th>\n",
              "      <th>fecha_cierre</th>\n",
              "      <th>hora_cierre</th>\n",
              "      <th>incidente_c4</th>\n",
              "      <th>delegacion_inicio</th>\n",
              "      <th>latitud</th>\n",
              "      <th>longitud</th>\n",
              "      <th>codigo_cierre</th>\n",
              "      <th>clas_con_f_alarma</th>\n",
              "      <th>tipo_entrada</th>\n",
              "      <th>delegacion_cierre</th>\n",
              "      <th>ano</th>\n",
              "      <th>mes</th>\n",
              "    </tr>\n",
              "  </thead>\n",
              "  <tbody>\n",
              "    <tr>\n",
              "      <th>0</th>\n",
              "      <td>1</td>\n",
              "      <td>C5/210201/04663</td>\n",
              "      <td>01/02/2021</td>\n",
              "      <td>19:14:39</td>\n",
              "      <td>Lunes</td>\n",
              "      <td>01/02/2021</td>\n",
              "      <td>20:36:48</td>\n",
              "      <td>accidente-choque con lesionados</td>\n",
              "      <td>GUSTAVO A. MADERO</td>\n",
              "      <td>19.461570</td>\n",
              "      <td>-99.115210</td>\n",
              "      <td>A</td>\n",
              "      <td>URGENCIAS MEDICAS</td>\n",
              "      <td>LLAMADA DEL 911</td>\n",
              "      <td>GUSTAVO A. MADERO</td>\n",
              "      <td>2021</td>\n",
              "      <td>2</td>\n",
              "    </tr>\n",
              "    <tr>\n",
              "      <th>1</th>\n",
              "      <td>2</td>\n",
              "      <td>C5/210201/00391</td>\n",
              "      <td>01/02/2021</td>\n",
              "      <td>01:02:02</td>\n",
              "      <td>Lunes</td>\n",
              "      <td>01/02/2021</td>\n",
              "      <td>01:20:09</td>\n",
              "      <td>accidente-choque sin lesionados</td>\n",
              "      <td>GUSTAVO A. MADERO</td>\n",
              "      <td>19.471440</td>\n",
              "      <td>-99.081770</td>\n",
              "      <td>N</td>\n",
              "      <td>EMERGENCIA</td>\n",
              "      <td>LLAMADA DEL 911</td>\n",
              "      <td>GUSTAVO A. MADERO</td>\n",
              "      <td>2021</td>\n",
              "      <td>2</td>\n",
              "    </tr>\n",
              "    <tr>\n",
              "      <th>2</th>\n",
              "      <td>3</td>\n",
              "      <td>C5/210201/03815</td>\n",
              "      <td>01/02/2021</td>\n",
              "      <td>16:49:58</td>\n",
              "      <td>Lunes</td>\n",
              "      <td>01/02/2021</td>\n",
              "      <td>19:11:53</td>\n",
              "      <td>accidente-choque con lesionados</td>\n",
              "      <td>MIGUEL HIDALGO</td>\n",
              "      <td>19.440680</td>\n",
              "      <td>-99.190980</td>\n",
              "      <td>A</td>\n",
              "      <td>URGENCIAS MEDICAS</td>\n",
              "      <td>LLAMADA DEL 911</td>\n",
              "      <td>MIGUEL HIDALGO</td>\n",
              "      <td>2021</td>\n",
              "      <td>2</td>\n",
              "    </tr>\n",
              "    <tr>\n",
              "      <th>3</th>\n",
              "      <td>4</td>\n",
              "      <td>C5/210201/02068</td>\n",
              "      <td>01/02/2021</td>\n",
              "      <td>11:10:52</td>\n",
              "      <td>Lunes</td>\n",
              "      <td>01/02/2021</td>\n",
              "      <td>12:24:56</td>\n",
              "      <td>accidente-choque sin lesionados</td>\n",
              "      <td>COYOACAN</td>\n",
              "      <td>19.342580</td>\n",
              "      <td>-99.148890</td>\n",
              "      <td>A</td>\n",
              "      <td>EMERGENCIA</td>\n",
              "      <td>LLAMADA DEL 911</td>\n",
              "      <td>COYOACAN</td>\n",
              "      <td>2021</td>\n",
              "      <td>2</td>\n",
              "    </tr>\n",
              "    <tr>\n",
              "      <th>4</th>\n",
              "      <td>5</td>\n",
              "      <td>C5/210201/03832</td>\n",
              "      <td>01/02/2021</td>\n",
              "      <td>16:52:41</td>\n",
              "      <td>Lunes</td>\n",
              "      <td>01/02/2021</td>\n",
              "      <td>17:38:14</td>\n",
              "      <td>accidente-choque con lesionados</td>\n",
              "      <td>TLALPAN</td>\n",
              "      <td>19.200021</td>\n",
              "      <td>-99.138111</td>\n",
              "      <td>N</td>\n",
              "      <td>URGENCIAS MEDICAS</td>\n",
              "      <td>LLAMADA DEL 911</td>\n",
              "      <td>TLALPAN</td>\n",
              "      <td>2021</td>\n",
              "      <td>2</td>\n",
              "    </tr>\n",
              "  </tbody>\n",
              "</table>\n",
              "</div>"
            ],
            "text/plain": [
              "   Unnamed: 0            folio fecha_creacion  ...  delegacion_cierre   ano mes\n",
              "0           1  C5/210201/04663     01/02/2021  ...  GUSTAVO A. MADERO  2021   2\n",
              "1           2  C5/210201/00391     01/02/2021  ...  GUSTAVO A. MADERO  2021   2\n",
              "2           3  C5/210201/03815     01/02/2021  ...     MIGUEL HIDALGO  2021   2\n",
              "3           4  C5/210201/02068     01/02/2021  ...           COYOACAN  2021   2\n",
              "4           5  C5/210201/03832     01/02/2021  ...            TLALPAN  2021   2\n",
              "\n",
              "[5 rows x 17 columns]"
            ]
          },
          "metadata": {
            "tags": []
          },
          "execution_count": 5
        }
      ]
    },
    {
      "cell_type": "markdown",
      "metadata": {
        "id": "Vea6jkUIORD6"
      },
      "source": [
        "# Data Preprocessing"
      ]
    },
    {
      "cell_type": "markdown",
      "metadata": {
        "id": "A0Rxacyxv1hY"
      },
      "source": [
        "## Describe data"
      ]
    },
    {
      "cell_type": "code",
      "metadata": {
        "colab": {
          "base_uri": "https://localhost:8080/",
          "height": 299
        },
        "id": "Uo5Yvuyav5rY",
        "outputId": "9c2e130f-a8ab-463c-e923-8cf351471e7e"
      },
      "source": [
        "incidents.describe()"
      ],
      "execution_count": 6,
      "outputs": [
        {
          "output_type": "execute_result",
          "data": {
            "text/html": [
              "<div>\n",
              "<style scoped>\n",
              "    .dataframe tbody tr th:only-of-type {\n",
              "        vertical-align: middle;\n",
              "    }\n",
              "\n",
              "    .dataframe tbody tr th {\n",
              "        vertical-align: top;\n",
              "    }\n",
              "\n",
              "    .dataframe thead th {\n",
              "        text-align: right;\n",
              "    }\n",
              "</style>\n",
              "<table border=\"1\" class=\"dataframe\">\n",
              "  <thead>\n",
              "    <tr style=\"text-align: right;\">\n",
              "      <th></th>\n",
              "      <th>Unnamed: 0</th>\n",
              "      <th>latitud</th>\n",
              "      <th>longitud</th>\n",
              "      <th>ano</th>\n",
              "      <th>mes</th>\n",
              "    </tr>\n",
              "  </thead>\n",
              "  <tbody>\n",
              "    <tr>\n",
              "      <th>count</th>\n",
              "      <td>12947.000000</td>\n",
              "      <td>12947.000000</td>\n",
              "      <td>12947.000000</td>\n",
              "      <td>12947.0</td>\n",
              "      <td>12947.0</td>\n",
              "    </tr>\n",
              "    <tr>\n",
              "      <th>mean</th>\n",
              "      <td>6474.000000</td>\n",
              "      <td>19.380217</td>\n",
              "      <td>-99.131012</td>\n",
              "      <td>2021.0</td>\n",
              "      <td>2.0</td>\n",
              "    </tr>\n",
              "    <tr>\n",
              "      <th>std</th>\n",
              "      <td>3737.621302</td>\n",
              "      <td>0.072025</td>\n",
              "      <td>0.061818</td>\n",
              "      <td>0.0</td>\n",
              "      <td>0.0</td>\n",
              "    </tr>\n",
              "    <tr>\n",
              "      <th>min</th>\n",
              "      <td>1.000000</td>\n",
              "      <td>19.098188</td>\n",
              "      <td>-99.347260</td>\n",
              "      <td>2021.0</td>\n",
              "      <td>2.0</td>\n",
              "    </tr>\n",
              "    <tr>\n",
              "      <th>25%</th>\n",
              "      <td>3237.500000</td>\n",
              "      <td>19.330040</td>\n",
              "      <td>-99.172050</td>\n",
              "      <td>2021.0</td>\n",
              "      <td>2.0</td>\n",
              "    </tr>\n",
              "    <tr>\n",
              "      <th>50%</th>\n",
              "      <td>6474.000000</td>\n",
              "      <td>19.380250</td>\n",
              "      <td>-99.134292</td>\n",
              "      <td>2021.0</td>\n",
              "      <td>2.0</td>\n",
              "    </tr>\n",
              "    <tr>\n",
              "      <th>75%</th>\n",
              "      <td>9710.500000</td>\n",
              "      <td>19.435890</td>\n",
              "      <td>-99.086560</td>\n",
              "      <td>2021.0</td>\n",
              "      <td>2.0</td>\n",
              "    </tr>\n",
              "    <tr>\n",
              "      <th>max</th>\n",
              "      <td>12947.000000</td>\n",
              "      <td>19.576320</td>\n",
              "      <td>-98.952781</td>\n",
              "      <td>2021.0</td>\n",
              "      <td>2.0</td>\n",
              "    </tr>\n",
              "  </tbody>\n",
              "</table>\n",
              "</div>"
            ],
            "text/plain": [
              "         Unnamed: 0       latitud      longitud      ano      mes\n",
              "count  12947.000000  12947.000000  12947.000000  12947.0  12947.0\n",
              "mean    6474.000000     19.380217    -99.131012   2021.0      2.0\n",
              "std     3737.621302      0.072025      0.061818      0.0      0.0\n",
              "min        1.000000     19.098188    -99.347260   2021.0      2.0\n",
              "25%     3237.500000     19.330040    -99.172050   2021.0      2.0\n",
              "50%     6474.000000     19.380250    -99.134292   2021.0      2.0\n",
              "75%     9710.500000     19.435890    -99.086560   2021.0      2.0\n",
              "max    12947.000000     19.576320    -98.952781   2021.0      2.0"
            ]
          },
          "metadata": {
            "tags": []
          },
          "execution_count": 6
        }
      ]
    },
    {
      "cell_type": "code",
      "metadata": {
        "colab": {
          "base_uri": "https://localhost:8080/"
        },
        "id": "xn42S94gwM9O",
        "outputId": "db40d875-6e10-4e5b-8d8d-bbc363eaea62"
      },
      "source": [
        "incidents.info()"
      ],
      "execution_count": 9,
      "outputs": [
        {
          "output_type": "stream",
          "text": [
            "<class 'pandas.core.frame.DataFrame'>\n",
            "RangeIndex: 12947 entries, 0 to 12946\n",
            "Data columns (total 17 columns):\n",
            " #   Column             Non-Null Count  Dtype  \n",
            "---  ------             --------------  -----  \n",
            " 0   Unnamed: 0         12947 non-null  int64  \n",
            " 1   folio              12947 non-null  object \n",
            " 2   fecha_creacion     12947 non-null  object \n",
            " 3   hora_creacion      12947 non-null  object \n",
            " 4   dia_semana         12947 non-null  object \n",
            " 5   fecha_cierre       12947 non-null  object \n",
            " 6   hora_cierre        12945 non-null  object \n",
            " 7   incidente_c4       12947 non-null  object \n",
            " 8   delegacion_inicio  12947 non-null  object \n",
            " 9   latitud            12947 non-null  float64\n",
            " 10  longitud           12947 non-null  float64\n",
            " 11  codigo_cierre      12947 non-null  object \n",
            " 12  clas_con_f_alarma  12947 non-null  object \n",
            " 13  tipo_entrada       12947 non-null  object \n",
            " 14  delegacion_cierre  12947 non-null  object \n",
            " 15  ano                12947 non-null  int64  \n",
            " 16  mes                12947 non-null  int64  \n",
            "dtypes: float64(2), int64(3), object(12)\n",
            "memory usage: 1.7+ MB\n"
          ],
          "name": "stdout"
        }
      ]
    },
    {
      "cell_type": "markdown",
      "metadata": {
        "id": "7ldCOVgTwnjn"
      },
      "source": [
        "## Data dictionary\n",
        "Let's understand the meaning of each column. \n",
        "\n",
        "Original Data Dictionary can be found [here](https://datos.cdmx.gob.mx/dataset/a6d1d483-65d2-4ed9-9687-1932eb0cf70f/resource/49b5360c-5922-46bd-b4f8-ed0225d5ddbf/download/diccionario-de-datos-de-incidentes-viales.xlsx).\n",
        "\n",
        "|Column|Description|\n",
        "|------|-----------|\n",
        "folio | Only alphanumeric code assigned to each one of the incidents generated by C5 and C2\n",
        "fecha_creacion | Folio event opening date\n",
        "hora_creacion | Folio event opening time\n",
        "dia_semana | Folio event opening day \n",
        "fecha_cierre | Folio event closure date\n",
        "hora_cierre | Folio event closure time\n",
        "incidente_c4 | Type of incident\n",
        "delegacion_inicio | Town hall where the incident was reported\n",
        "latitud | Lattitude\n",
        "longitud | Longitude\n",
        "codigo_cierre | Code generated to the incident ince it was closed\n",
        "clas_con_f_alarma | Incident classification\n",
        "tipo_entrada | How the incident was reported \n",
        "delegacion_cierre | Town hall where the incident was closed"
      ]
    },
    {
      "cell_type": "markdown",
      "metadata": {
        "id": "U30lw8dlOVyB"
      },
      "source": [
        "# Modeling"
      ]
    },
    {
      "cell_type": "markdown",
      "metadata": {
        "id": "s3kvcdiqOXNp"
      },
      "source": [
        "# Report"
      ]
    },
    {
      "cell_type": "markdown",
      "metadata": {
        "id": "gSmyqlVjOY0x"
      },
      "source": [
        "# Deployment and consumption"
      ]
    },
    {
      "cell_type": "markdown",
      "metadata": {
        "id": "ODeQvIAaQHJD"
      },
      "source": [
        "# Useful resources\n",
        "* https://www.educba.com/predictive-analysis-vs-forecasting/?source=leftnav"
      ]
    },
    {
      "cell_type": "code",
      "metadata": {
        "id": "_Qm8A4fxOHjW"
      },
      "source": [
        "\n"
      ],
      "execution_count": null,
      "outputs": []
    }
  ]
}