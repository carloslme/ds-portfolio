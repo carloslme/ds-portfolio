{
  "nbformat": 4,
  "nbformat_minor": 0,
  "metadata": {
    "kernelspec": {
      "display_name": "Python 3",
      "language": "python",
      "name": "python3"
    },
    "language_info": {
      "codemirror_mode": {
        "name": "ipython",
        "version": 3
      },
      "file_extension": ".py",
      "mimetype": "text/x-python",
      "name": "python",
      "nbconvert_exporter": "python",
      "pygments_lexer": "ipython3",
      "version": "3.8.5"
    },
    "colab": {
      "name": "predictive_analysis.ipynb",
      "provenance": [],
      "include_colab_link": true
    }
  },
  "cells": [
    {
      "cell_type": "markdown",
      "metadata": {
        "id": "view-in-github",
        "colab_type": "text"
      },
      "source": [
        "<a href=\"https://colab.research.google.com/github/carloslme/ds-portfolio/blob/main/predictive-analytics/predictive_analysis.ipynb\" target=\"_parent\"><img src=\"https://colab.research.google.com/assets/colab-badge.svg\" alt=\"Open In Colab\"/></a>"
      ]
    },
    {
      "cell_type": "markdown",
      "metadata": {
        "id": "AC9esRIwOHjT"
      },
      "source": [
        "# Introduction\n",
        "Predictive Analytics is a process of statistical techniques derived from data mining, machine learning and predictive modeling that obtain current and historical events to predict future events or unknown outcomes in the future.\n",
        "\n",
        "The goal of this exercise is to build a machine learning pipeline for predictive analytics using this open dataset: https://datos.cdmx.gob.mx/dataset/incidentes-viales-c5, which shows the road incidents in Mexico City during february 2021 in the 16 town halls."
      ]
    },
    {
      "cell_type": "markdown",
      "metadata": {
        "id": "bXXxHcS8OLel"
      },
      "source": [
        "# Data Ingestion"
      ]
    },
    {
      "cell_type": "markdown",
      "metadata": {
        "id": "dL40mXwtQNga"
      },
      "source": [
        "## Getting data from website "
      ]
    },
    {
      "cell_type": "code",
      "metadata": {
        "id": "0abCiwxxQU0z",
        "colab": {
          "base_uri": "https://localhost:8080/"
        },
        "outputId": "5a536119-f54b-4784-f3e7-2b54c288f5cd"
      },
      "source": [
        "!pip install requests"
      ],
      "execution_count": 35,
      "outputs": [
        {
          "output_type": "stream",
          "text": [
            "Requirement already satisfied: requests in /usr/local/lib/python3.7/dist-packages (2.23.0)\n",
            "Requirement already satisfied: idna<3,>=2.5 in /usr/local/lib/python3.7/dist-packages (from requests) (2.10)\n",
            "Requirement already satisfied: urllib3!=1.25.0,!=1.25.1,<1.26,>=1.21.1 in /usr/local/lib/python3.7/dist-packages (from requests) (1.24.3)\n",
            "Requirement already satisfied: certifi>=2017.4.17 in /usr/local/lib/python3.7/dist-packages (from requests) (2021.5.30)\n",
            "Requirement already satisfied: chardet<4,>=3.0.2 in /usr/local/lib/python3.7/dist-packages (from requests) (3.0.4)\n"
          ],
          "name": "stdout"
        }
      ]
    },
    {
      "cell_type": "code",
      "metadata": {
        "id": "nfQsaS2oQs6I"
      },
      "source": [
        "import requests"
      ],
      "execution_count": 36,
      "outputs": []
    },
    {
      "cell_type": "code",
      "metadata": {
        "id": "FIHwhDgeQwCU"
      },
      "source": [
        "res = requests.get('https://datos.cdmx.gob.mx/dataset/a6d1d483-65d2-4ed9-9687-1932eb0cf70f/resource/c6b0fe65-137c-40d6-99c9-6c527f9b29c4/download/___')"
      ],
      "execution_count": 37,
      "outputs": []
    },
    {
      "cell_type": "code",
      "metadata": {
        "id": "w-HPUL8fRQVt"
      },
      "source": [
        "res.raise_for_status()\n",
        "csv_file = open('incidentes-viales-c5.csv', 'wb')\n",
        "for chunk in res.iter_content(100000):\n",
        "  csv_file.write(chunk)\n",
        "\n",
        "csv_file.close()"
      ],
      "execution_count": 38,
      "outputs": []
    },
    {
      "cell_type": "markdown",
      "metadata": {
        "id": "rf3ZQ9ueOOso"
      },
      "source": [
        "# Data Exploration "
      ]
    },
    {
      "cell_type": "code",
      "metadata": {
        "id": "T07K-u6xTDtS"
      },
      "source": [
        "import pandas as pd"
      ],
      "execution_count": 39,
      "outputs": []
    },
    {
      "cell_type": "code",
      "metadata": {
        "id": "dOEXzhngTHfw",
        "colab": {
          "base_uri": "https://localhost:8080/",
          "height": 415
        },
        "outputId": "a6608718-d3db-420e-fb47-cd600677b94b"
      },
      "source": [
        "incidents = pd.read_csv('/content/incidentes-viales-c5.csv')\n",
        "incidents.head()"
      ],
      "execution_count": 40,
      "outputs": [
        {
          "output_type": "execute_result",
          "data": {
            "text/html": [
              "<div>\n",
              "<style scoped>\n",
              "    .dataframe tbody tr th:only-of-type {\n",
              "        vertical-align: middle;\n",
              "    }\n",
              "\n",
              "    .dataframe tbody tr th {\n",
              "        vertical-align: top;\n",
              "    }\n",
              "\n",
              "    .dataframe thead th {\n",
              "        text-align: right;\n",
              "    }\n",
              "</style>\n",
              "<table border=\"1\" class=\"dataframe\">\n",
              "  <thead>\n",
              "    <tr style=\"text-align: right;\">\n",
              "      <th></th>\n",
              "      <th>Unnamed: 0</th>\n",
              "      <th>folio</th>\n",
              "      <th>fecha_creacion</th>\n",
              "      <th>hora_creacion</th>\n",
              "      <th>dia_semana</th>\n",
              "      <th>fecha_cierre</th>\n",
              "      <th>hora_cierre</th>\n",
              "      <th>incidente_c4</th>\n",
              "      <th>delegacion_inicio</th>\n",
              "      <th>latitud</th>\n",
              "      <th>longitud</th>\n",
              "      <th>codigo_cierre</th>\n",
              "      <th>clas_con_f_alarma</th>\n",
              "      <th>tipo_entrada</th>\n",
              "      <th>delegacion_cierre</th>\n",
              "      <th>ano</th>\n",
              "      <th>mes</th>\n",
              "    </tr>\n",
              "  </thead>\n",
              "  <tbody>\n",
              "    <tr>\n",
              "      <th>0</th>\n",
              "      <td>1</td>\n",
              "      <td>C5/210201/04663</td>\n",
              "      <td>01/02/2021</td>\n",
              "      <td>19:14:39</td>\n",
              "      <td>Lunes</td>\n",
              "      <td>01/02/2021</td>\n",
              "      <td>20:36:48</td>\n",
              "      <td>accidente-choque con lesionados</td>\n",
              "      <td>GUSTAVO A. MADERO</td>\n",
              "      <td>19.461570</td>\n",
              "      <td>-99.115210</td>\n",
              "      <td>A</td>\n",
              "      <td>URGENCIAS MEDICAS</td>\n",
              "      <td>LLAMADA DEL 911</td>\n",
              "      <td>GUSTAVO A. MADERO</td>\n",
              "      <td>2021</td>\n",
              "      <td>2</td>\n",
              "    </tr>\n",
              "    <tr>\n",
              "      <th>1</th>\n",
              "      <td>2</td>\n",
              "      <td>C5/210201/00391</td>\n",
              "      <td>01/02/2021</td>\n",
              "      <td>01:02:02</td>\n",
              "      <td>Lunes</td>\n",
              "      <td>01/02/2021</td>\n",
              "      <td>01:20:09</td>\n",
              "      <td>accidente-choque sin lesionados</td>\n",
              "      <td>GUSTAVO A. MADERO</td>\n",
              "      <td>19.471440</td>\n",
              "      <td>-99.081770</td>\n",
              "      <td>N</td>\n",
              "      <td>EMERGENCIA</td>\n",
              "      <td>LLAMADA DEL 911</td>\n",
              "      <td>GUSTAVO A. MADERO</td>\n",
              "      <td>2021</td>\n",
              "      <td>2</td>\n",
              "    </tr>\n",
              "    <tr>\n",
              "      <th>2</th>\n",
              "      <td>3</td>\n",
              "      <td>C5/210201/03815</td>\n",
              "      <td>01/02/2021</td>\n",
              "      <td>16:49:58</td>\n",
              "      <td>Lunes</td>\n",
              "      <td>01/02/2021</td>\n",
              "      <td>19:11:53</td>\n",
              "      <td>accidente-choque con lesionados</td>\n",
              "      <td>MIGUEL HIDALGO</td>\n",
              "      <td>19.440680</td>\n",
              "      <td>-99.190980</td>\n",
              "      <td>A</td>\n",
              "      <td>URGENCIAS MEDICAS</td>\n",
              "      <td>LLAMADA DEL 911</td>\n",
              "      <td>MIGUEL HIDALGO</td>\n",
              "      <td>2021</td>\n",
              "      <td>2</td>\n",
              "    </tr>\n",
              "    <tr>\n",
              "      <th>3</th>\n",
              "      <td>4</td>\n",
              "      <td>C5/210201/02068</td>\n",
              "      <td>01/02/2021</td>\n",
              "      <td>11:10:52</td>\n",
              "      <td>Lunes</td>\n",
              "      <td>01/02/2021</td>\n",
              "      <td>12:24:56</td>\n",
              "      <td>accidente-choque sin lesionados</td>\n",
              "      <td>COYOACAN</td>\n",
              "      <td>19.342580</td>\n",
              "      <td>-99.148890</td>\n",
              "      <td>A</td>\n",
              "      <td>EMERGENCIA</td>\n",
              "      <td>LLAMADA DEL 911</td>\n",
              "      <td>COYOACAN</td>\n",
              "      <td>2021</td>\n",
              "      <td>2</td>\n",
              "    </tr>\n",
              "    <tr>\n",
              "      <th>4</th>\n",
              "      <td>5</td>\n",
              "      <td>C5/210201/03832</td>\n",
              "      <td>01/02/2021</td>\n",
              "      <td>16:52:41</td>\n",
              "      <td>Lunes</td>\n",
              "      <td>01/02/2021</td>\n",
              "      <td>17:38:14</td>\n",
              "      <td>accidente-choque con lesionados</td>\n",
              "      <td>TLALPAN</td>\n",
              "      <td>19.200021</td>\n",
              "      <td>-99.138111</td>\n",
              "      <td>N</td>\n",
              "      <td>URGENCIAS MEDICAS</td>\n",
              "      <td>LLAMADA DEL 911</td>\n",
              "      <td>TLALPAN</td>\n",
              "      <td>2021</td>\n",
              "      <td>2</td>\n",
              "    </tr>\n",
              "  </tbody>\n",
              "</table>\n",
              "</div>"
            ],
            "text/plain": [
              "   Unnamed: 0            folio fecha_creacion  ...  delegacion_cierre   ano mes\n",
              "0           1  C5/210201/04663     01/02/2021  ...  GUSTAVO A. MADERO  2021   2\n",
              "1           2  C5/210201/00391     01/02/2021  ...  GUSTAVO A. MADERO  2021   2\n",
              "2           3  C5/210201/03815     01/02/2021  ...     MIGUEL HIDALGO  2021   2\n",
              "3           4  C5/210201/02068     01/02/2021  ...           COYOACAN  2021   2\n",
              "4           5  C5/210201/03832     01/02/2021  ...            TLALPAN  2021   2\n",
              "\n",
              "[5 rows x 17 columns]"
            ]
          },
          "metadata": {
            "tags": []
          },
          "execution_count": 40
        }
      ]
    },
    {
      "cell_type": "markdown",
      "metadata": {
        "id": "Vea6jkUIORD6"
      },
      "source": [
        "# Data Preprocessing"
      ]
    },
    {
      "cell_type": "markdown",
      "metadata": {
        "id": "7ldCOVgTwnjn"
      },
      "source": [
        "## Data dictionary\n",
        "Let's understand the meaning of each column. \n",
        "\n",
        "Original Data Dictionary can be found [here](https://datos.cdmx.gob.mx/dataset/a6d1d483-65d2-4ed9-9687-1932eb0cf70f/resource/49b5360c-5922-46bd-b4f8-ed0225d5ddbf/download/diccionario-de-datos-de-incidentes-viales.xlsx).\n",
        "\n",
        "|Column|Description|\n",
        "|------|-----------|\n",
        "folio | Only alphanumeric code assigned to each one of the incidents generated by C5 and C2\n",
        "fecha_creacion | Folio event opening date\n",
        "hora_creacion | Folio event opening time\n",
        "dia_semana | Folio event opening day \n",
        "fecha_cierre | Folio event closure date\n",
        "hora_cierre | Folio event closure time\n",
        "incidente_c4 | Type of incident\n",
        "delegacion_inicio | Town hall where the incident was reported\n",
        "latitud | Lattitude\n",
        "longitud | Longitude\n",
        "codigo_cierre | Code generated to the incident ince it was closed\n",
        "clas_con_f_alarma | Incident classification\n",
        "tipo_entrada | How the incident was reported \n",
        "delegacion_cierre | Town hall where the incident was closed"
      ]
    },
    {
      "cell_type": "markdown",
      "metadata": {
        "id": "A0Rxacyxv1hY"
      },
      "source": [
        "## Describe data"
      ]
    },
    {
      "cell_type": "code",
      "metadata": {
        "colab": {
          "base_uri": "https://localhost:8080/",
          "height": 299
        },
        "id": "Uo5Yvuyav5rY",
        "outputId": "a18f7082-3951-4766-b160-28515a5c6739"
      },
      "source": [
        "incidents.describe()"
      ],
      "execution_count": 41,
      "outputs": [
        {
          "output_type": "execute_result",
          "data": {
            "text/html": [
              "<div>\n",
              "<style scoped>\n",
              "    .dataframe tbody tr th:only-of-type {\n",
              "        vertical-align: middle;\n",
              "    }\n",
              "\n",
              "    .dataframe tbody tr th {\n",
              "        vertical-align: top;\n",
              "    }\n",
              "\n",
              "    .dataframe thead th {\n",
              "        text-align: right;\n",
              "    }\n",
              "</style>\n",
              "<table border=\"1\" class=\"dataframe\">\n",
              "  <thead>\n",
              "    <tr style=\"text-align: right;\">\n",
              "      <th></th>\n",
              "      <th>Unnamed: 0</th>\n",
              "      <th>latitud</th>\n",
              "      <th>longitud</th>\n",
              "      <th>ano</th>\n",
              "      <th>mes</th>\n",
              "    </tr>\n",
              "  </thead>\n",
              "  <tbody>\n",
              "    <tr>\n",
              "      <th>count</th>\n",
              "      <td>12947.000000</td>\n",
              "      <td>12947.000000</td>\n",
              "      <td>12947.000000</td>\n",
              "      <td>12947.0</td>\n",
              "      <td>12947.0</td>\n",
              "    </tr>\n",
              "    <tr>\n",
              "      <th>mean</th>\n",
              "      <td>6474.000000</td>\n",
              "      <td>19.380217</td>\n",
              "      <td>-99.131012</td>\n",
              "      <td>2021.0</td>\n",
              "      <td>2.0</td>\n",
              "    </tr>\n",
              "    <tr>\n",
              "      <th>std</th>\n",
              "      <td>3737.621302</td>\n",
              "      <td>0.072025</td>\n",
              "      <td>0.061818</td>\n",
              "      <td>0.0</td>\n",
              "      <td>0.0</td>\n",
              "    </tr>\n",
              "    <tr>\n",
              "      <th>min</th>\n",
              "      <td>1.000000</td>\n",
              "      <td>19.098188</td>\n",
              "      <td>-99.347260</td>\n",
              "      <td>2021.0</td>\n",
              "      <td>2.0</td>\n",
              "    </tr>\n",
              "    <tr>\n",
              "      <th>25%</th>\n",
              "      <td>3237.500000</td>\n",
              "      <td>19.330040</td>\n",
              "      <td>-99.172050</td>\n",
              "      <td>2021.0</td>\n",
              "      <td>2.0</td>\n",
              "    </tr>\n",
              "    <tr>\n",
              "      <th>50%</th>\n",
              "      <td>6474.000000</td>\n",
              "      <td>19.380250</td>\n",
              "      <td>-99.134292</td>\n",
              "      <td>2021.0</td>\n",
              "      <td>2.0</td>\n",
              "    </tr>\n",
              "    <tr>\n",
              "      <th>75%</th>\n",
              "      <td>9710.500000</td>\n",
              "      <td>19.435890</td>\n",
              "      <td>-99.086560</td>\n",
              "      <td>2021.0</td>\n",
              "      <td>2.0</td>\n",
              "    </tr>\n",
              "    <tr>\n",
              "      <th>max</th>\n",
              "      <td>12947.000000</td>\n",
              "      <td>19.576320</td>\n",
              "      <td>-98.952781</td>\n",
              "      <td>2021.0</td>\n",
              "      <td>2.0</td>\n",
              "    </tr>\n",
              "  </tbody>\n",
              "</table>\n",
              "</div>"
            ],
            "text/plain": [
              "         Unnamed: 0       latitud      longitud      ano      mes\n",
              "count  12947.000000  12947.000000  12947.000000  12947.0  12947.0\n",
              "mean    6474.000000     19.380217    -99.131012   2021.0      2.0\n",
              "std     3737.621302      0.072025      0.061818      0.0      0.0\n",
              "min        1.000000     19.098188    -99.347260   2021.0      2.0\n",
              "25%     3237.500000     19.330040    -99.172050   2021.0      2.0\n",
              "50%     6474.000000     19.380250    -99.134292   2021.0      2.0\n",
              "75%     9710.500000     19.435890    -99.086560   2021.0      2.0\n",
              "max    12947.000000     19.576320    -98.952781   2021.0      2.0"
            ]
          },
          "metadata": {
            "tags": []
          },
          "execution_count": 41
        }
      ]
    },
    {
      "cell_type": "code",
      "metadata": {
        "colab": {
          "base_uri": "https://localhost:8080/"
        },
        "id": "xn42S94gwM9O",
        "outputId": "0eb59126-3ea7-478d-cfac-41b304319b54"
      },
      "source": [
        "incidents.info()"
      ],
      "execution_count": 42,
      "outputs": [
        {
          "output_type": "stream",
          "text": [
            "<class 'pandas.core.frame.DataFrame'>\n",
            "RangeIndex: 12947 entries, 0 to 12946\n",
            "Data columns (total 17 columns):\n",
            " #   Column             Non-Null Count  Dtype  \n",
            "---  ------             --------------  -----  \n",
            " 0   Unnamed: 0         12947 non-null  int64  \n",
            " 1   folio              12947 non-null  object \n",
            " 2   fecha_creacion     12947 non-null  object \n",
            " 3   hora_creacion      12947 non-null  object \n",
            " 4   dia_semana         12947 non-null  object \n",
            " 5   fecha_cierre       12947 non-null  object \n",
            " 6   hora_cierre        12945 non-null  object \n",
            " 7   incidente_c4       12947 non-null  object \n",
            " 8   delegacion_inicio  12947 non-null  object \n",
            " 9   latitud            12947 non-null  float64\n",
            " 10  longitud           12947 non-null  float64\n",
            " 11  codigo_cierre      12947 non-null  object \n",
            " 12  clas_con_f_alarma  12947 non-null  object \n",
            " 13  tipo_entrada       12947 non-null  object \n",
            " 14  delegacion_cierre  12947 non-null  object \n",
            " 15  ano                12947 non-null  int64  \n",
            " 16  mes                12947 non-null  int64  \n",
            "dtypes: float64(2), int64(3), object(12)\n",
            "memory usage: 1.7+ MB\n"
          ],
          "name": "stdout"
        }
      ]
    },
    {
      "cell_type": "markdown",
      "metadata": {
        "id": "nB4Rqhi7G3hi"
      },
      "source": [
        "*Note* \n",
        "\n",
        "There is no null data in the columns"
      ]
    },
    {
      "cell_type": "markdown",
      "metadata": {
        "id": "nKT72cmLBSEa"
      },
      "source": [
        "## Remove irrelevant columns\n",
        "Apparently, the columns that seems to not contribute anything for this analysis are the following:\n",
        "* `Unnamed` - Just the rows numbers\n",
        "* `dia_semana` - can be inferred by `dia_semana`\n",
        "* `fecha_cierre` - not necessary for prediction\n",
        "* `hora_cierre` - not necessary for prediction\n",
        "* `delegacion_inicio` - not necessary for prediction\n",
        "* `delegacion_cierre` - not necessary for prediction\n",
        "* `codigo_cierre` - not necessary for prediction\n",
        "* `ano` - can be inferred by `fecha_creacion`\n",
        "* `mes` - `fecha_creacion`"
      ]
    },
    {
      "cell_type": "code",
      "metadata": {
        "id": "3D2ftcAwBWip"
      },
      "source": [
        "incidents.drop(['Unnamed: 0', 'folio', 'dia_semana', 'fecha_cierre', 'hora_cierre', 'delegacion_inicio', 'codigo_cierre', 'delegacion_cierre', 'ano', 'mes'], axis=1, inplace=True)"
      ],
      "execution_count": 43,
      "outputs": []
    },
    {
      "cell_type": "markdown",
      "metadata": {
        "id": "Tn6dd09BUnhX"
      },
      "source": [
        ""
      ]
    },
    {
      "cell_type": "code",
      "metadata": {
        "colab": {
          "base_uri": "https://localhost:8080/"
        },
        "id": "JgGm1XqHJrCx",
        "outputId": "b04d72ca-4abc-4e9c-db44-2b73f13abdf5"
      },
      "source": [
        "incidents.info()"
      ],
      "execution_count": 44,
      "outputs": [
        {
          "output_type": "stream",
          "text": [
            "<class 'pandas.core.frame.DataFrame'>\n",
            "RangeIndex: 12947 entries, 0 to 12946\n",
            "Data columns (total 7 columns):\n",
            " #   Column             Non-Null Count  Dtype  \n",
            "---  ------             --------------  -----  \n",
            " 0   fecha_creacion     12947 non-null  object \n",
            " 1   hora_creacion      12947 non-null  object \n",
            " 2   incidente_c4       12947 non-null  object \n",
            " 3   latitud            12947 non-null  float64\n",
            " 4   longitud           12947 non-null  float64\n",
            " 5   clas_con_f_alarma  12947 non-null  object \n",
            " 6   tipo_entrada       12947 non-null  object \n",
            "dtypes: float64(2), object(5)\n",
            "memory usage: 708.2+ KB\n"
          ],
          "name": "stdout"
        }
      ]
    },
    {
      "cell_type": "code",
      "metadata": {
        "id": "Iktgto-KeQFT",
        "outputId": "b14de932-945e-4fed-f17c-5d968d0731ed",
        "colab": {
          "base_uri": "https://localhost:8080/",
          "height": 362
        }
      },
      "source": [
        "incidents.head(10b)"
      ],
      "execution_count": 45,
      "outputs": [
        {
          "output_type": "execute_result",
          "data": {
            "text/html": [
              "<div>\n",
              "<style scoped>\n",
              "    .dataframe tbody tr th:only-of-type {\n",
              "        vertical-align: middle;\n",
              "    }\n",
              "\n",
              "    .dataframe tbody tr th {\n",
              "        vertical-align: top;\n",
              "    }\n",
              "\n",
              "    .dataframe thead th {\n",
              "        text-align: right;\n",
              "    }\n",
              "</style>\n",
              "<table border=\"1\" class=\"dataframe\">\n",
              "  <thead>\n",
              "    <tr style=\"text-align: right;\">\n",
              "      <th></th>\n",
              "      <th>fecha_creacion</th>\n",
              "      <th>hora_creacion</th>\n",
              "      <th>incidente_c4</th>\n",
              "      <th>latitud</th>\n",
              "      <th>longitud</th>\n",
              "      <th>clas_con_f_alarma</th>\n",
              "      <th>tipo_entrada</th>\n",
              "    </tr>\n",
              "  </thead>\n",
              "  <tbody>\n",
              "    <tr>\n",
              "      <th>0</th>\n",
              "      <td>01/02/2021</td>\n",
              "      <td>19:14:39</td>\n",
              "      <td>accidente-choque con lesionados</td>\n",
              "      <td>19.461570</td>\n",
              "      <td>-99.115210</td>\n",
              "      <td>URGENCIAS MEDICAS</td>\n",
              "      <td>LLAMADA DEL 911</td>\n",
              "    </tr>\n",
              "    <tr>\n",
              "      <th>1</th>\n",
              "      <td>01/02/2021</td>\n",
              "      <td>01:02:02</td>\n",
              "      <td>accidente-choque sin lesionados</td>\n",
              "      <td>19.471440</td>\n",
              "      <td>-99.081770</td>\n",
              "      <td>EMERGENCIA</td>\n",
              "      <td>LLAMADA DEL 911</td>\n",
              "    </tr>\n",
              "    <tr>\n",
              "      <th>2</th>\n",
              "      <td>01/02/2021</td>\n",
              "      <td>16:49:58</td>\n",
              "      <td>accidente-choque con lesionados</td>\n",
              "      <td>19.440680</td>\n",
              "      <td>-99.190980</td>\n",
              "      <td>URGENCIAS MEDICAS</td>\n",
              "      <td>LLAMADA DEL 911</td>\n",
              "    </tr>\n",
              "    <tr>\n",
              "      <th>3</th>\n",
              "      <td>01/02/2021</td>\n",
              "      <td>11:10:52</td>\n",
              "      <td>accidente-choque sin lesionados</td>\n",
              "      <td>19.342580</td>\n",
              "      <td>-99.148890</td>\n",
              "      <td>EMERGENCIA</td>\n",
              "      <td>LLAMADA DEL 911</td>\n",
              "    </tr>\n",
              "    <tr>\n",
              "      <th>4</th>\n",
              "      <td>01/02/2021</td>\n",
              "      <td>16:52:41</td>\n",
              "      <td>accidente-choque con lesionados</td>\n",
              "      <td>19.200021</td>\n",
              "      <td>-99.138111</td>\n",
              "      <td>URGENCIAS MEDICAS</td>\n",
              "      <td>LLAMADA DEL 911</td>\n",
              "    </tr>\n",
              "    <tr>\n",
              "      <th>5</th>\n",
              "      <td>01/02/2021</td>\n",
              "      <td>19:23:09</td>\n",
              "      <td>accidente-motociclista</td>\n",
              "      <td>19.382470</td>\n",
              "      <td>-99.060990</td>\n",
              "      <td>URGENCIAS MEDICAS</td>\n",
              "      <td>LLAMADA DEL 911</td>\n",
              "    </tr>\n",
              "    <tr>\n",
              "      <th>6</th>\n",
              "      <td>01/02/2021</td>\n",
              "      <td>01:11:09</td>\n",
              "      <td>accidente-choque sin lesionados</td>\n",
              "      <td>19.484860</td>\n",
              "      <td>-99.069640</td>\n",
              "      <td>EMERGENCIA</td>\n",
              "      <td>LLAMADA DEL 911</td>\n",
              "    </tr>\n",
              "    <tr>\n",
              "      <th>7</th>\n",
              "      <td>01/02/2021</td>\n",
              "      <td>11:15:17</td>\n",
              "      <td>accidente-choque sin lesionados</td>\n",
              "      <td>19.463890</td>\n",
              "      <td>-99.125270</td>\n",
              "      <td>EMERGENCIA</td>\n",
              "      <td>LLAMADA DEL 911</td>\n",
              "    </tr>\n",
              "    <tr>\n",
              "      <th>8</th>\n",
              "      <td>01/02/2021</td>\n",
              "      <td>16:54:48</td>\n",
              "      <td>lesionado-atropellado</td>\n",
              "      <td>19.428370</td>\n",
              "      <td>-99.095550</td>\n",
              "      <td>URGENCIAS MEDICAS</td>\n",
              "      <td>LLAMADA DEL 911</td>\n",
              "    </tr>\n",
              "    <tr>\n",
              "      <th>9</th>\n",
              "      <td>01/02/2021</td>\n",
              "      <td>16:52:03</td>\n",
              "      <td>accidente-choque con prensados</td>\n",
              "      <td>19.199580</td>\n",
              "      <td>-99.141820</td>\n",
              "      <td>URGENCIAS MEDICAS</td>\n",
              "      <td>LLAMADA DEL 911</td>\n",
              "    </tr>\n",
              "  </tbody>\n",
              "</table>\n",
              "</div>"
            ],
            "text/plain": [
              "  fecha_creacion hora_creacion  ...  clas_con_f_alarma     tipo_entrada\n",
              "0     01/02/2021      19:14:39  ...  URGENCIAS MEDICAS  LLAMADA DEL 911\n",
              "1     01/02/2021      01:02:02  ...         EMERGENCIA  LLAMADA DEL 911\n",
              "2     01/02/2021      16:49:58  ...  URGENCIAS MEDICAS  LLAMADA DEL 911\n",
              "3     01/02/2021      11:10:52  ...         EMERGENCIA  LLAMADA DEL 911\n",
              "4     01/02/2021      16:52:41  ...  URGENCIAS MEDICAS  LLAMADA DEL 911\n",
              "5     01/02/2021      19:23:09  ...  URGENCIAS MEDICAS  LLAMADA DEL 911\n",
              "6     01/02/2021      01:11:09  ...         EMERGENCIA  LLAMADA DEL 911\n",
              "7     01/02/2021      11:15:17  ...         EMERGENCIA  LLAMADA DEL 911\n",
              "8     01/02/2021      16:54:48  ...  URGENCIAS MEDICAS  LLAMADA DEL 911\n",
              "9     01/02/2021      16:52:03  ...  URGENCIAS MEDICAS  LLAMADA DEL 911\n",
              "\n",
              "[10 rows x 7 columns]"
            ]
          },
          "metadata": {
            "tags": []
          },
          "execution_count": 45
        }
      ]
    },
    {
      "cell_type": "markdown",
      "metadata": {
        "id": "zWVg0w4EeGdb"
      },
      "source": [
        "## Reporting structures\n",
        "Let's find any structures that can be found analyzing this dataset once it was cleaned."
      ]
    },
    {
      "cell_type": "code",
      "metadata": {
        "id": "hFheEM0VeLaj",
        "outputId": "6d3da9f5-78db-4eda-d35d-64d80ce13300",
        "colab": {
          "base_uri": "https://localhost:8080/",
          "height": 120
        }
      },
      "source": [
        "import matplotlib.pyplot as plt\n",
        "import seaborn as sns\n",
        "import warnings\n",
        "warnings.simplefilter(action='ignore', category=FutureWarning)\n",
        "\n",
        "plt.figure(figsize=(30,40))\n",
        "for i, col in enumerate(incidents.columns):\n",
        "    if incidents[col].dtype != 'object':\n",
        "        ax = plt.subplot(21, 3, i+1)\n",
        "        sns.kdeplot(incidents[col], ax=ax)\n",
        "        plt.xlabel(col, fontsize=10)\n",
        "        plt.tight_layout(pad=2.0)\n",
        "        \n",
        "plt.show()"
      ],
      "execution_count": 46,
      "outputs": [
        {
          "output_type": "display_data",
          "data": {
            "image/png": "[encoded data removed]",
            "text/plain": [
              "<Figure size 2160x2880 with 2 Axes>"
            ]
          },
          "metadata": {
            "tags": [],
            "needs_background": "light"
          }
        }
      ]
    },
    {
      "cell_type": "code",
      "metadata": {
        "id": "IYJ3Mk9Ve9ja",
        "outputId": "bc02b782-e181-4257-f64c-04fca4539cc8",
        "colab": {
          "base_uri": "https://localhost:8080/",
          "height": 157
        }
      },
      "source": [
        "plt.figure(figsize=(30,40))\n",
        "for i, col in enumerate(incidents.columns):\n",
        "    if incidents[col].dtype != 'object':\n",
        "        ax = plt.subplot(21, 2, i+1)\n",
        "        sns.boxplot(incidents[col], ax=ax)\n",
        "        plt.xlabel(col, fontsize=10)\n",
        "        plt.tight_layout(pad=2.0)\n",
        "        \n",
        "plt.show()"
      ],
      "execution_count": 48,
      "outputs": [
        {
          "output_type": "display_data",
          "data": {
            "image/png": "[encoded data removed]",
            "text/plain": [
              "<Figure size 2160x2880 with 2 Axes>"
            ]
          },
          "metadata": {
            "tags": [],
            "needs_background": "light"
          }
        }
      ]
    },
    {
      "cell_type": "markdown",
      "metadata": {
        "id": "U30lw8dlOVyB"
      },
      "source": [
        "# Modeling"
      ]
    },
    {
      "cell_type": "markdown",
      "metadata": {
        "id": "s3kvcdiqOXNp"
      },
      "source": [
        "# Report"
      ]
    },
    {
      "cell_type": "markdown",
      "metadata": {
        "id": "gSmyqlVjOY0x"
      },
      "source": [
        "# Deployment and consumption"
      ]
    },
    {
      "cell_type": "markdown",
      "metadata": {
        "id": "ODeQvIAaQHJD"
      },
      "source": [
        "# Useful resources\n",
        "* https://www.educba.com/predictive-analysis-vs-forecasting/?source=leftnav"
      ]
    },
    {
      "cell_type": "code",
      "metadata": {
        "id": "_Qm8A4fxOHjW"
      },
      "source": [
        "\n"
      ],
      "execution_count": 45,
      "outputs": []
    }
  ]
}